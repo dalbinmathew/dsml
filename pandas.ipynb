{
 "cells": [
  {
   "cell_type": "markdown",
   "metadata": {},
   "source": [
    "# Pandas"
   ]
  },
  {
   "cell_type": "markdown",
   "metadata": {},
   "source": [
    "Pandas is an open-source data manipulation and analysis library for Python. It provides data structures and functions needed to manipulate structured data seamlessly. Pandas is particularly well-suited for working with tabular data, such as data stored in spreadsheets or databases.\n",
    "\n",
    "### Key Features:\n",
    "1. **Data Structures**:\n",
    "   - **Series**: A one-dimensional labeled array capable of holding any data type.\n",
    "   - **DataFrame**: A two-dimensional labeled data structure with columns of potentially different types, similar to a table in a database or a data frame in R.\n",
    "\n",
    "2. **Data Manipulation**:\n",
    "   - **Indexing and Selection**: Access and modify data using labels and positions.\n",
    "   - **Merging and Joining**: Combine multiple DataFrames using SQL-like joins.\n",
    "   - **Grouping**: Group data for aggregation and transformation.\n",
    "   - **Reshaping**: Pivot, stack, and unstack data to change its layout.\n",
    "   - **Handling Missing Data**: Detect, remove, and fill missing values.\n",
    "\n",
    "3. **Data Analysis**:\n",
    "   - **Descriptive Statistics**: Calculate summary statistics like mean, median, and standard deviation.\n",
    "   - **Time Series**: Handle and manipulate time series data.\n",
    "   - **Visualization**: Integrate with libraries like Matplotlib for data visualization.\n"
   ]
  },
  {
   "cell_type": "code",
   "execution_count": 1,
   "metadata": {},
   "outputs": [],
   "source": [
    "import pandas as pd"
   ]
  },
  {
   "cell_type": "code",
   "execution_count": 2,
   "metadata": {},
   "outputs": [
    {
     "name": "stdout",
     "output_type": "stream",
     "text": [
      "      Name  Age         City\n",
      "0    Alice   25     New York\n",
      "1      Bob   30  Los Angeles\n",
      "2  Charlie   35      Chicago\n",
      "\n",
      "0      Alice\n",
      "1        Bob\n",
      "2    Charlie\n",
      "Name: Name, dtype: object\n",
      "\n",
      "      Name  Age     City\n",
      "2  Charlie   35  Chicago\n",
      "\n",
      "      Name  Age         City  Salary\n",
      "0    Alice   25     New York   70000\n",
      "1      Bob   30  Los Angeles   80000\n",
      "2  Charlie   35      Chicago   90000\n",
      "\n",
      "        Age   Salary\n",
      "count   3.0      3.0\n",
      "mean   30.0  80000.0\n",
      "std     5.0  10000.0\n",
      "min    25.0  70000.0\n",
      "25%    27.5  75000.0\n",
      "50%    30.0  80000.0\n",
      "75%    32.5  85000.0\n",
      "max    35.0  90000.0\n"
     ]
    }
   ],
   "source": [
    "# Create a DataFrame\n",
    "data = {\n",
    "    'Name': ['Alice', 'Bob', 'Charlie'],\n",
    "    'Age': [25, 30, 35],\n",
    "    'City': ['New York', 'Los Angeles', 'Chicago']\n",
    "}\n",
    "df = pd.DataFrame(data)\n",
    "\n",
    "# Display the DataFrame\n",
    "print(df)\n",
    "print()\n",
    "\n",
    "# Select a column\n",
    "print(df['Name'])\n",
    "print()\n",
    "\n",
    "# Filter rows based on a condition\n",
    "print(df[df['Age'] > 30])\n",
    "print()\n",
    "\n",
    "# Add a new column\n",
    "df['Salary'] = [70000, 80000, 90000]\n",
    "print(df)\n",
    "print()\n",
    "\n",
    "# Calculate summary statistics\n",
    "print(df.describe())"
   ]
  },
  {
   "cell_type": "code",
   "execution_count": 3,
   "metadata": {},
   "outputs": [],
   "source": [
    "import numpy as np"
   ]
  },
  {
   "cell_type": "code",
   "execution_count": 4,
   "metadata": {},
   "outputs": [],
   "source": [
    "labels = ['A', 'B', 'C', 'D']\n",
    "list1 = [1, 2, 3, 4]\n",
    "list2 = np.array([40, 50, 60])\n",
    "dictionary = {\n",
    "    'A': 10,\n",
    "    'B': 20,\n",
    "    'C': 30,\n",
    "}"
   ]
  },
  {
   "cell_type": "code",
   "execution_count": 5,
   "metadata": {},
   "outputs": [
    {
     "data": {
      "text/plain": [
       "0    1\n",
       "1    2\n",
       "2    3\n",
       "3    4\n",
       "dtype: int64"
      ]
     },
     "execution_count": 5,
     "metadata": {},
     "output_type": "execute_result"
    }
   ],
   "source": [
    "pd.Series(data=list1)"
   ]
  },
  {
   "cell_type": "code",
   "execution_count": 6,
   "metadata": {},
   "outputs": [
    {
     "data": {
      "text/plain": [
       "A    1\n",
       "B    2\n",
       "C    3\n",
       "D    4\n",
       "dtype: int64"
      ]
     },
     "execution_count": 6,
     "metadata": {},
     "output_type": "execute_result"
    }
   ],
   "source": [
    "pd.Series(data=list1, index=labels)"
   ]
  },
  {
   "cell_type": "code",
   "execution_count": 7,
   "metadata": {},
   "outputs": [
    {
     "data": {
      "text/plain": [
       "0    A\n",
       "1    B\n",
       "2    C\n",
       "3    D\n",
       "dtype: object"
      ]
     },
     "execution_count": 7,
     "metadata": {},
     "output_type": "execute_result"
    }
   ],
   "source": [
    "pd.Series(data=labels)"
   ]
  },
  {
   "cell_type": "code",
   "execution_count": 8,
   "metadata": {},
   "outputs": [
    {
     "data": {
      "text/plain": [
       "0      <built-in function sum>\n",
       "1    <built-in function print>\n",
       "2      <built-in function len>\n",
       "dtype: object"
      ]
     },
     "execution_count": 8,
     "metadata": {},
     "output_type": "execute_result"
    }
   ],
   "source": [
    "pd.Series([sum, print, len])"
   ]
  },
  {
   "cell_type": "code",
   "execution_count": 9,
   "metadata": {},
   "outputs": [
    {
     "data": {
      "text/plain": [
       "0    40\n",
       "1    50\n",
       "2    60\n",
       "dtype: int32"
      ]
     },
     "execution_count": 9,
     "metadata": {},
     "output_type": "execute_result"
    }
   ],
   "source": [
    "pd.Series(list2)"
   ]
  },
  {
   "cell_type": "code",
   "execution_count": 10,
   "metadata": {},
   "outputs": [
    {
     "data": {
      "text/plain": [
       "A    10\n",
       "B    20\n",
       "C    30\n",
       "dtype: int64"
      ]
     },
     "execution_count": 10,
     "metadata": {},
     "output_type": "execute_result"
    }
   ],
   "source": [
    "pd.Series(dictionary)"
   ]
  },
  {
   "cell_type": "code",
   "execution_count": 11,
   "metadata": {},
   "outputs": [
    {
     "data": {
      "text/plain": [
       "Cars     [BMW, Bugatti, Lamborghini]\n",
       "Color             [Red, Blue, Green]\n",
       "dtype: object"
      ]
     },
     "execution_count": 11,
     "metadata": {},
     "output_type": "execute_result"
    }
   ],
   "source": [
    "my_dataset = {\n",
    "    \"Cars\": [\"BMW\", \"Bugatti\", \"Lamborghini\"],\n",
    "    \"Color\": [\"Red\", \"Blue\", \"Green\"],\n",
    "}\n",
    "\n",
    "pd.Series(my_dataset)"
   ]
  },
  {
   "cell_type": "code",
   "execution_count": 12,
   "metadata": {},
   "outputs": [
    {
     "data": {
      "text/html": [
       "<div>\n",
       "<style scoped>\n",
       "    .dataframe tbody tr th:only-of-type {\n",
       "        vertical-align: middle;\n",
       "    }\n",
       "\n",
       "    .dataframe tbody tr th {\n",
       "        vertical-align: top;\n",
       "    }\n",
       "\n",
       "    .dataframe thead th {\n",
       "        text-align: right;\n",
       "    }\n",
       "</style>\n",
       "<table border=\"1\" class=\"dataframe\">\n",
       "  <thead>\n",
       "    <tr style=\"text-align: right;\">\n",
       "      <th></th>\n",
       "      <th>Cars</th>\n",
       "      <th>Color</th>\n",
       "    </tr>\n",
       "  </thead>\n",
       "  <tbody>\n",
       "    <tr>\n",
       "      <th>0</th>\n",
       "      <td>BMW</td>\n",
       "      <td>Red</td>\n",
       "    </tr>\n",
       "    <tr>\n",
       "      <th>1</th>\n",
       "      <td>Bugatti</td>\n",
       "      <td>Blue</td>\n",
       "    </tr>\n",
       "    <tr>\n",
       "      <th>2</th>\n",
       "      <td>Lamborghini</td>\n",
       "      <td>Green</td>\n",
       "    </tr>\n",
       "  </tbody>\n",
       "</table>\n",
       "</div>"
      ],
      "text/plain": [
       "          Cars  Color\n",
       "0          BMW    Red\n",
       "1      Bugatti   Blue\n",
       "2  Lamborghini  Green"
      ]
     },
     "execution_count": 12,
     "metadata": {},
     "output_type": "execute_result"
    }
   ],
   "source": [
    "pd.DataFrame(my_dataset)"
   ]
  },
  {
   "cell_type": "code",
   "execution_count": 13,
   "metadata": {},
   "outputs": [
    {
     "name": "stdout",
     "output_type": "stream",
     "text": [
      "Red        Apple\n",
      "Orange    Orange\n",
      "Yellow    Banana\n",
      "Green     Grapes\n",
      "dtype: object \n",
      "\n",
      "   Fruits  Colors\n",
      "0   Apple     Red\n",
      "1  Orange  Orange\n",
      "2  Banana  Yellow\n",
      "3  Grapes   Green\n"
     ]
    }
   ],
   "source": [
    "fruits = [\"Apple\", \"Orange\", \"Banana\", \"Grapes\"]\n",
    "colors = [\"Red\", \"Orange\", \"Yellow\", \"Green\"]\n",
    "\n",
    "print(pd.Series(fruits, colors), \"\\n\")\n",
    "print(pd.DataFrame({\"Fruits\": fruits, \"Colors\": colors}))"
   ]
  },
  {
   "cell_type": "code",
   "execution_count": 14,
   "metadata": {},
   "outputs": [
    {
     "data": {
      "text/plain": [
       "a    1\n",
       "b    2\n",
       "c    3\n",
       "d    4\n",
       "dtype: int64"
      ]
     },
     "execution_count": 14,
     "metadata": {},
     "output_type": "execute_result"
    }
   ],
   "source": [
    "pd.Series([1, 2, 3, 4], ['a', 'b', 'c', 'd'])"
   ]
  },
  {
   "cell_type": "code",
   "execution_count": 15,
   "metadata": {},
   "outputs": [],
   "source": [
    "import random"
   ]
  },
  {
   "cell_type": "code",
   "execution_count": 16,
   "metadata": {},
   "outputs": [
    {
     "name": "stdout",
     "output_type": "stream",
     "text": [
      "First: 79\n",
      "Second:  79\n"
     ]
    }
   ],
   "source": [
    "# Seed is used to save the state of the random generator\n",
    "random.seed(40)\n",
    "print(\"First:\", random.randint(50, 100)) # Prints 79\n",
    "\n",
    "random.seed(40)\n",
    "print(\"Second: \", random.randint(50, 100)) # Also prints 79"
   ]
  },
  {
   "cell_type": "code",
   "execution_count": 17,
   "metadata": {},
   "outputs": [
    {
     "name": "stdout",
     "output_type": "stream",
     "text": [
      "0.5794876581271581\n",
      "0.5714025946899135\n"
     ]
    }
   ],
   "source": [
    "# random.seed(10)\n",
    "print(random.random())\n",
    "\n",
    "random.seed(10)\n",
    "print(random.random())"
   ]
  },
  {
   "cell_type": "code",
   "execution_count": 18,
   "metadata": {},
   "outputs": [
    {
     "data": {
      "text/html": [
       "<div>\n",
       "<style scoped>\n",
       "    .dataframe tbody tr th:only-of-type {\n",
       "        vertical-align: middle;\n",
       "    }\n",
       "\n",
       "    .dataframe tbody tr th {\n",
       "        vertical-align: top;\n",
       "    }\n",
       "\n",
       "    .dataframe thead th {\n",
       "        text-align: right;\n",
       "    }\n",
       "</style>\n",
       "<table border=\"1\" class=\"dataframe\">\n",
       "  <thead>\n",
       "    <tr style=\"text-align: right;\">\n",
       "      <th></th>\n",
       "      <th>P</th>\n",
       "      <th>Q</th>\n",
       "      <th>R</th>\n",
       "      <th>S</th>\n",
       "    </tr>\n",
       "  </thead>\n",
       "  <tbody>\n",
       "    <tr>\n",
       "      <th>A</th>\n",
       "      <td>-0.880216</td>\n",
       "      <td>-1.124792</td>\n",
       "      <td>-2.237082</td>\n",
       "      <td>0.152265</td>\n",
       "    </tr>\n",
       "    <tr>\n",
       "      <th>B</th>\n",
       "      <td>1.329084</td>\n",
       "      <td>0.095936</td>\n",
       "      <td>-0.873125</td>\n",
       "      <td>-0.004997</td>\n",
       "    </tr>\n",
       "    <tr>\n",
       "      <th>C</th>\n",
       "      <td>0.063208</td>\n",
       "      <td>0.599832</td>\n",
       "      <td>-0.688645</td>\n",
       "      <td>1.111726</td>\n",
       "    </tr>\n",
       "    <tr>\n",
       "      <th>D</th>\n",
       "      <td>-0.233116</td>\n",
       "      <td>-2.032303</td>\n",
       "      <td>-0.302994</td>\n",
       "      <td>1.062598</td>\n",
       "    </tr>\n",
       "    <tr>\n",
       "      <th>E</th>\n",
       "      <td>0.479928</td>\n",
       "      <td>0.693184</td>\n",
       "      <td>-0.733692</td>\n",
       "      <td>-0.420060</td>\n",
       "    </tr>\n",
       "  </tbody>\n",
       "</table>\n",
       "</div>"
      ],
      "text/plain": [
       "          P         Q         R         S\n",
       "A -0.880216 -1.124792 -2.237082  0.152265\n",
       "B  1.329084  0.095936 -0.873125 -0.004997\n",
       "C  0.063208  0.599832 -0.688645  1.111726\n",
       "D -0.233116 -2.032303 -0.302994  1.062598\n",
       "E  0.479928  0.693184 -0.733692 -0.420060"
      ]
     },
     "execution_count": 18,
     "metadata": {},
     "output_type": "execute_result"
    }
   ],
   "source": [
    "# randn for normal distribution (positive and negative values)\n",
    "# np.random.seed(5)\n",
    "pd.DataFrame(np.random.randn(5, 4), index=\"A B C D E\".split(), columns=\"P Q R S\".split())"
   ]
  },
  {
   "cell_type": "code",
   "execution_count": 19,
   "metadata": {},
   "outputs": [
    {
     "name": "stdout",
     "output_type": "stream",
     "text": [
      "          P         Q         R         S\n",
      "A  0.369498  0.326707  0.268009  0.574409\n",
      "B  0.426284  0.365147  0.825715  0.344388\n",
      "C  0.483149  0.347895  0.958949  0.451255\n",
      "D  0.499380  0.082573  0.403521  0.200722\n",
      "E  0.764149  0.935239  0.978174  0.101058\n",
      "A    0.369498\n",
      "B    0.426284\n",
      "C    0.483149\n",
      "D    0.499380\n",
      "E    0.764149\n",
      "Name: P, dtype: float64\n",
      "          R         S\n",
      "A  0.268009  0.574409\n",
      "B  0.825715  0.344388\n",
      "C  0.958949  0.451255\n",
      "D  0.403521  0.200722\n",
      "E  0.978174  0.101058\n"
     ]
    }
   ],
   "source": [
    "# rand for positive values only\n",
    "df = pd.DataFrame(np.random.rand(5, 4), index=\"A B C D E\".split(), columns=\"P Q R S\".split())\n",
    "print(df)\n",
    "\n",
    "print(df[\"P\"]) # Lists the first column\n",
    "\n",
    "print(df[[\"R\", \"S\"]]) # R and S columns"
   ]
  },
  {
   "cell_type": "code",
   "execution_count": 20,
   "metadata": {},
   "outputs": [
    {
     "name": "stdout",
     "output_type": "stream",
     "text": [
      "<class 'pandas.core.series.Series'>\n",
      "<class 'pandas.core.frame.DataFrame'>\n"
     ]
    }
   ],
   "source": [
    "print(type(df[\"P\"]))\n",
    "print(type(df[[\"P\", \"Q\"]]))"
   ]
  },
  {
   "cell_type": "code",
   "execution_count": 21,
   "metadata": {},
   "outputs": [
    {
     "data": {
      "text/html": [
       "<div>\n",
       "<style scoped>\n",
       "    .dataframe tbody tr th:only-of-type {\n",
       "        vertical-align: middle;\n",
       "    }\n",
       "\n",
       "    .dataframe tbody tr th {\n",
       "        vertical-align: top;\n",
       "    }\n",
       "\n",
       "    .dataframe thead th {\n",
       "        text-align: right;\n",
       "    }\n",
       "</style>\n",
       "<table border=\"1\" class=\"dataframe\">\n",
       "  <thead>\n",
       "    <tr style=\"text-align: right;\">\n",
       "      <th></th>\n",
       "      <th>P</th>\n",
       "      <th>Q</th>\n",
       "      <th>R</th>\n",
       "      <th>S</th>\n",
       "      <th>T</th>\n",
       "    </tr>\n",
       "  </thead>\n",
       "  <tbody>\n",
       "    <tr>\n",
       "      <th>A</th>\n",
       "      <td>0.369498</td>\n",
       "      <td>0.326707</td>\n",
       "      <td>0.268009</td>\n",
       "      <td>0.574409</td>\n",
       "      <td>1</td>\n",
       "    </tr>\n",
       "    <tr>\n",
       "      <th>B</th>\n",
       "      <td>0.426284</td>\n",
       "      <td>0.365147</td>\n",
       "      <td>0.825715</td>\n",
       "      <td>0.344388</td>\n",
       "      <td>2</td>\n",
       "    </tr>\n",
       "    <tr>\n",
       "      <th>C</th>\n",
       "      <td>0.483149</td>\n",
       "      <td>0.347895</td>\n",
       "      <td>0.958949</td>\n",
       "      <td>0.451255</td>\n",
       "      <td>3</td>\n",
       "    </tr>\n",
       "    <tr>\n",
       "      <th>D</th>\n",
       "      <td>0.499380</td>\n",
       "      <td>0.082573</td>\n",
       "      <td>0.403521</td>\n",
       "      <td>0.200722</td>\n",
       "      <td>4</td>\n",
       "    </tr>\n",
       "    <tr>\n",
       "      <th>E</th>\n",
       "      <td>0.764149</td>\n",
       "      <td>0.935239</td>\n",
       "      <td>0.978174</td>\n",
       "      <td>0.101058</td>\n",
       "      <td>5</td>\n",
       "    </tr>\n",
       "  </tbody>\n",
       "</table>\n",
       "</div>"
      ],
      "text/plain": [
       "          P         Q         R         S  T\n",
       "A  0.369498  0.326707  0.268009  0.574409  1\n",
       "B  0.426284  0.365147  0.825715  0.344388  2\n",
       "C  0.483149  0.347895  0.958949  0.451255  3\n",
       "D  0.499380  0.082573  0.403521  0.200722  4\n",
       "E  0.764149  0.935239  0.978174  0.101058  5"
      ]
     },
     "execution_count": 21,
     "metadata": {},
     "output_type": "execute_result"
    }
   ],
   "source": [
    "# Add new column\n",
    "df[\"T\"] = [1, 2, 3, 4, 5]\n",
    "df"
   ]
  },
  {
   "cell_type": "code",
   "execution_count": 22,
   "metadata": {},
   "outputs": [
    {
     "name": "stdout",
     "output_type": "stream",
     "text": [
      "          P         Q         R         S\n",
      "A  0.369498  0.326707  0.268009  0.574409\n",
      "B  0.426284  0.365147  0.825715  0.344388\n",
      "C  0.483149  0.347895  0.958949  0.451255\n",
      "D  0.499380  0.082573  0.403521  0.200722\n",
      "E  0.764149  0.935239  0.978174  0.101058\n",
      "          P         Q         R         S  T\n",
      "A  0.369498  0.326707  0.268009  0.574409  1\n",
      "B  0.426284  0.365147  0.825715  0.344388  2\n",
      "C  0.483149  0.347895  0.958949  0.451255  3\n",
      "E  0.764149  0.935239  0.978174  0.101058  5\n"
     ]
    },
    {
     "data": {
      "text/html": [
       "<div>\n",
       "<style scoped>\n",
       "    .dataframe tbody tr th:only-of-type {\n",
       "        vertical-align: middle;\n",
       "    }\n",
       "\n",
       "    .dataframe tbody tr th {\n",
       "        vertical-align: top;\n",
       "    }\n",
       "\n",
       "    .dataframe thead th {\n",
       "        text-align: right;\n",
       "    }\n",
       "</style>\n",
       "<table border=\"1\" class=\"dataframe\">\n",
       "  <thead>\n",
       "    <tr style=\"text-align: right;\">\n",
       "      <th></th>\n",
       "      <th>P</th>\n",
       "      <th>Q</th>\n",
       "      <th>R</th>\n",
       "      <th>S</th>\n",
       "      <th>T</th>\n",
       "    </tr>\n",
       "  </thead>\n",
       "  <tbody>\n",
       "    <tr>\n",
       "      <th>A</th>\n",
       "      <td>0.369498</td>\n",
       "      <td>0.326707</td>\n",
       "      <td>0.268009</td>\n",
       "      <td>0.574409</td>\n",
       "      <td>1</td>\n",
       "    </tr>\n",
       "    <tr>\n",
       "      <th>B</th>\n",
       "      <td>0.426284</td>\n",
       "      <td>0.365147</td>\n",
       "      <td>0.825715</td>\n",
       "      <td>0.344388</td>\n",
       "      <td>2</td>\n",
       "    </tr>\n",
       "    <tr>\n",
       "      <th>C</th>\n",
       "      <td>0.483149</td>\n",
       "      <td>0.347895</td>\n",
       "      <td>0.958949</td>\n",
       "      <td>0.451255</td>\n",
       "      <td>3</td>\n",
       "    </tr>\n",
       "    <tr>\n",
       "      <th>D</th>\n",
       "      <td>0.499380</td>\n",
       "      <td>0.082573</td>\n",
       "      <td>0.403521</td>\n",
       "      <td>0.200722</td>\n",
       "      <td>4</td>\n",
       "    </tr>\n",
       "    <tr>\n",
       "      <th>E</th>\n",
       "      <td>0.764149</td>\n",
       "      <td>0.935239</td>\n",
       "      <td>0.978174</td>\n",
       "      <td>0.101058</td>\n",
       "      <td>5</td>\n",
       "    </tr>\n",
       "  </tbody>\n",
       "</table>\n",
       "</div>"
      ],
      "text/plain": [
       "          P         Q         R         S  T\n",
       "A  0.369498  0.326707  0.268009  0.574409  1\n",
       "B  0.426284  0.365147  0.825715  0.344388  2\n",
       "C  0.483149  0.347895  0.958949  0.451255  3\n",
       "D  0.499380  0.082573  0.403521  0.200722  4\n",
       "E  0.764149  0.935239  0.978174  0.101058  5"
      ]
     },
     "execution_count": 22,
     "metadata": {},
     "output_type": "execute_result"
    }
   ],
   "source": [
    "# Drop a row or column (not modifying the original dataframe)\n",
    "print(df.drop(\"T\", axis=1))\n",
    "print(df.drop(\"D\", axis=0))\n",
    "df"
   ]
  },
  {
   "cell_type": "code",
   "execution_count": 23,
   "metadata": {},
   "outputs": [
    {
     "data": {
      "text/plain": [
       "P    0.369498\n",
       "Q    0.326707\n",
       "R    0.268009\n",
       "S    0.574409\n",
       "T    1.000000\n",
       "Name: A, dtype: float64"
      ]
     },
     "execution_count": 23,
     "metadata": {},
     "output_type": "execute_result"
    }
   ],
   "source": [
    "# Locate a row by the label\n",
    "df.loc['A']"
   ]
  },
  {
   "cell_type": "code",
   "execution_count": 24,
   "metadata": {},
   "outputs": [
    {
     "data": {
      "text/plain": [
       "P    0.483149\n",
       "Q    0.347895\n",
       "R    0.958949\n",
       "S    0.451255\n",
       "T    3.000000\n",
       "Name: C, dtype: float64"
      ]
     },
     "execution_count": 24,
     "metadata": {},
     "output_type": "execute_result"
    }
   ],
   "source": [
    "# Locate a row by the index\n",
    "df.iloc[2]"
   ]
  },
  {
   "cell_type": "code",
   "execution_count": 25,
   "metadata": {},
   "outputs": [
    {
     "data": {
      "text/plain": [
       "0.8257146944547653"
      ]
     },
     "execution_count": 25,
     "metadata": {},
     "output_type": "execute_result"
    }
   ],
   "source": [
    "# Locate a cell by index and column\n",
    "df.loc[\"B\", \"R\"]"
   ]
  },
  {
   "cell_type": "code",
   "execution_count": 26,
   "metadata": {},
   "outputs": [
    {
     "data": {
      "text/html": [
       "<div>\n",
       "<style scoped>\n",
       "    .dataframe tbody tr th:only-of-type {\n",
       "        vertical-align: middle;\n",
       "    }\n",
       "\n",
       "    .dataframe tbody tr th {\n",
       "        vertical-align: top;\n",
       "    }\n",
       "\n",
       "    .dataframe thead th {\n",
       "        text-align: right;\n",
       "    }\n",
       "</style>\n",
       "<table border=\"1\" class=\"dataframe\">\n",
       "  <thead>\n",
       "    <tr style=\"text-align: right;\">\n",
       "      <th></th>\n",
       "      <th>R</th>\n",
       "      <th>S</th>\n",
       "    </tr>\n",
       "  </thead>\n",
       "  <tbody>\n",
       "    <tr>\n",
       "      <th>A</th>\n",
       "      <td>0.268009</td>\n",
       "      <td>0.574409</td>\n",
       "    </tr>\n",
       "    <tr>\n",
       "      <th>B</th>\n",
       "      <td>0.825715</td>\n",
       "      <td>0.344388</td>\n",
       "    </tr>\n",
       "  </tbody>\n",
       "</table>\n",
       "</div>"
      ],
      "text/plain": [
       "          R         S\n",
       "A  0.268009  0.574409\n",
       "B  0.825715  0.344388"
      ]
     },
     "execution_count": 26,
     "metadata": {},
     "output_type": "execute_result"
    }
   ],
   "source": [
    "# Locate a part of the dataframe\n",
    "df.loc[[\"A\", \"B\"], [\"R\", \"S\"]]"
   ]
  },
  {
   "cell_type": "code",
   "execution_count": 27,
   "metadata": {},
   "outputs": [
    {
     "data": {
      "text/plain": [
       "[('A', 1), ('A', 2), ('A', 3), ('B', 1), ('B', 2), ('B', 3)]"
      ]
     },
     "execution_count": 27,
     "metadata": {},
     "output_type": "execute_result"
    }
   ],
   "source": [
    "# Zip: Combine 2 lists\n",
    "a1 = ['A', 'A', 'A', 'B', 'B', 'B']\n",
    "b1 = [1, 2, 3, 1, 2, 3]\n",
    "\n",
    "p = list(zip(a1, b1))\n",
    "p"
   ]
  },
  {
   "cell_type": "code",
   "execution_count": 28,
   "metadata": {},
   "outputs": [
    {
     "data": {
      "text/html": [
       "<div>\n",
       "<style scoped>\n",
       "    .dataframe tbody tr th:only-of-type {\n",
       "        vertical-align: middle;\n",
       "    }\n",
       "\n",
       "    .dataframe tbody tr th {\n",
       "        vertical-align: top;\n",
       "    }\n",
       "\n",
       "    .dataframe thead th {\n",
       "        text-align: right;\n",
       "    }\n",
       "</style>\n",
       "<table border=\"1\" class=\"dataframe\">\n",
       "  <thead>\n",
       "    <tr style=\"text-align: right;\">\n",
       "      <th></th>\n",
       "      <th>X</th>\n",
       "      <th>Y</th>\n",
       "    </tr>\n",
       "  </thead>\n",
       "  <tbody>\n",
       "    <tr>\n",
       "      <th>(A, 1)</th>\n",
       "      <td>-0.277855</td>\n",
       "      <td>0.560018</td>\n",
       "    </tr>\n",
       "    <tr>\n",
       "      <th>(A, 2)</th>\n",
       "      <td>0.536641</td>\n",
       "      <td>0.367636</td>\n",
       "    </tr>\n",
       "    <tr>\n",
       "      <th>(A, 3)</th>\n",
       "      <td>0.903835</td>\n",
       "      <td>1.198604</td>\n",
       "    </tr>\n",
       "    <tr>\n",
       "      <th>(B, 1)</th>\n",
       "      <td>-2.248095</td>\n",
       "      <td>1.667915</td>\n",
       "    </tr>\n",
       "    <tr>\n",
       "      <th>(B, 2)</th>\n",
       "      <td>-1.389806</td>\n",
       "      <td>0.314747</td>\n",
       "    </tr>\n",
       "    <tr>\n",
       "      <th>(B, 3)</th>\n",
       "      <td>1.065496</td>\n",
       "      <td>0.061149</td>\n",
       "    </tr>\n",
       "  </tbody>\n",
       "</table>\n",
       "</div>"
      ],
      "text/plain": [
       "               X         Y\n",
       "(A, 1) -0.277855  0.560018\n",
       "(A, 2)  0.536641  0.367636\n",
       "(A, 3)  0.903835  1.198604\n",
       "(B, 1) -2.248095  1.667915\n",
       "(B, 2) -1.389806  0.314747\n",
       "(B, 3)  1.065496  0.061149"
      ]
     },
     "execution_count": 28,
     "metadata": {},
     "output_type": "execute_result"
    }
   ],
   "source": [
    "df = pd.DataFrame(np.random.randn(6, 2), index=p, columns=['X', 'Y'])\n",
    "df"
   ]
  },
  {
   "cell_type": "markdown",
   "metadata": {},
   "source": [
    "#### Write a python programme to convert a list to series."
   ]
  },
  {
   "cell_type": "code",
   "execution_count": 29,
   "metadata": {},
   "outputs": [],
   "source": [
    "import pandas as pd"
   ]
  },
  {
   "cell_type": "code",
   "execution_count": 30,
   "metadata": {},
   "outputs": [
    {
     "data": {
      "text/plain": [
       "0    2\n",
       "1    3\n",
       "2    4\n",
       "3    5\n",
       "dtype: int64"
      ]
     },
     "execution_count": 30,
     "metadata": {},
     "output_type": "execute_result"
    }
   ],
   "source": [
    "l = [2, 3, 4, 5]\n",
    "series = pd.Series(l)\n",
    "series"
   ]
  },
  {
   "cell_type": "markdown",
   "metadata": {},
   "source": [
    "#### Write a python programme to generate a series of dates from 1st August 2024 to 24 August 2024 (inclusive)."
   ]
  },
  {
   "cell_type": "code",
   "execution_count": 31,
   "metadata": {},
   "outputs": [],
   "source": [
    "import datetime"
   ]
  },
  {
   "cell_type": "code",
   "execution_count": 36,
   "metadata": {},
   "outputs": [
    {
     "data": {
      "text/plain": [
       "DatetimeIndex(['2024-08-01', '2024-08-02', '2024-08-03', '2024-08-04',\n",
       "               '2024-08-05', '2024-08-06', '2024-08-07', '2024-08-08',\n",
       "               '2024-08-09', '2024-08-10', '2024-08-11', '2024-08-12',\n",
       "               '2024-08-13', '2024-08-14', '2024-08-15', '2024-08-16',\n",
       "               '2024-08-17', '2024-08-18', '2024-08-19', '2024-08-20',\n",
       "               '2024-08-21', '2024-08-22', '2024-08-23', '2024-08-24'],\n",
       "              dtype='datetime64[ns]', freq='D')"
      ]
     },
     "execution_count": 36,
     "metadata": {},
     "output_type": "execute_result"
    }
   ],
   "source": [
    "start = datetime.datetime.strptime(\"01-08-2024\", \"%d-%m-%Y\")\n",
    "end = datetime.datetime.strptime(\"24-08-2024\", \"%d-%m-%Y\")\n",
    "\n",
    "dates = pd.date_range(start, end)\n",
    "dates"
   ]
  },
  {
   "cell_type": "markdown",
   "metadata": {},
   "source": [
    "#### Convert a dictionary into dataframe and display it."
   ]
  },
  {
   "cell_type": "code",
   "execution_count": 33,
   "metadata": {},
   "outputs": [
    {
     "name": "stdout",
     "output_type": "stream",
     "text": [
      "   0  1\n",
      "0  1  A\n",
      "1  2  B\n",
      "2  3  C\n",
      "3  4  D\n",
      "4  5  E\n"
     ]
    }
   ],
   "source": [
    "d = {\n",
    "    \"1\": \"A\",\n",
    "    \"2\": \"B\",\n",
    "    \"3\": \"C\",\n",
    "    \"4\": \"D\",\n",
    "    \"5\": \"E\",\n",
    "}\n",
    "\n",
    "df = pd.DataFrame(d.items())\n",
    "print(df)"
   ]
  },
  {
   "cell_type": "markdown",
   "metadata": {},
   "source": [
    "#### Create a 2D list and convert it into data frame and display it."
   ]
  },
  {
   "cell_type": "code",
   "execution_count": 34,
   "metadata": {},
   "outputs": [
    {
     "data": {
      "text/html": [
       "<div>\n",
       "<style scoped>\n",
       "    .dataframe tbody tr th:only-of-type {\n",
       "        vertical-align: middle;\n",
       "    }\n",
       "\n",
       "    .dataframe tbody tr th {\n",
       "        vertical-align: top;\n",
       "    }\n",
       "\n",
       "    .dataframe thead th {\n",
       "        text-align: right;\n",
       "    }\n",
       "</style>\n",
       "<table border=\"1\" class=\"dataframe\">\n",
       "  <thead>\n",
       "    <tr style=\"text-align: right;\">\n",
       "      <th></th>\n",
       "      <th>0</th>\n",
       "      <th>1</th>\n",
       "    </tr>\n",
       "  </thead>\n",
       "  <tbody>\n",
       "    <tr>\n",
       "      <th>0</th>\n",
       "      <td>1</td>\n",
       "      <td>2</td>\n",
       "    </tr>\n",
       "    <tr>\n",
       "      <th>1</th>\n",
       "      <td>3</td>\n",
       "      <td>4</td>\n",
       "    </tr>\n",
       "    <tr>\n",
       "      <th>2</th>\n",
       "      <td>5</td>\n",
       "      <td>6</td>\n",
       "    </tr>\n",
       "  </tbody>\n",
       "</table>\n",
       "</div>"
      ],
      "text/plain": [
       "   0  1\n",
       "0  1  2\n",
       "1  3  4\n",
       "2  5  6"
      ]
     },
     "execution_count": 34,
     "metadata": {},
     "output_type": "execute_result"
    }
   ],
   "source": [
    "l = [\n",
    "    [1, 2],\n",
    "    [3, 4],\n",
    "    [5, 6],\n",
    "]\n",
    "\n",
    "df = pd.DataFrame(l)\n",
    "df"
   ]
  }
 ],
 "metadata": {
  "kernelspec": {
   "display_name": "Python 3",
   "language": "python",
   "name": "python3"
  },
  "language_info": {
   "codemirror_mode": {
    "name": "ipython",
    "version": 3
   },
   "file_extension": ".py",
   "mimetype": "text/x-python",
   "name": "python",
   "nbconvert_exporter": "python",
   "pygments_lexer": "ipython3",
   "version": "3.11.3"
  }
 },
 "nbformat": 4,
 "nbformat_minor": 2
}
