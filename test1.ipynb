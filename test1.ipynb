{
  "metadata": {
    "kernelspec": {
      "name": "python",
      "display_name": "Python (Pyodide)",
      "language": "python"
    },
    "language_info": {
      "codemirror_mode": {
        "name": "python",
        "version": 3
      },
      "file_extension": ".py",
      "mimetype": "text/x-python",
      "name": "python",
      "nbconvert_exporter": "python",
      "pygments_lexer": "ipython3",
      "version": "3.8"
    }
  },
  "nbformat_minor": 4,
  "nbformat": 4,
  "cells": [
    {
      "cell_type": "code",
      "source": "import numpy as np",
      "metadata": {
        "trusted": true
      },
      "outputs": [],
      "execution_count": 1
    },
    {
      "cell_type": "code",
      "source": "a=np.diag([1,2,3])\nprint(a)",
      "metadata": {
        "trusted": true
      },
      "outputs": [
        {
          "name": "stdout",
          "text": "[[1 0 0]\n [0 2 0]\n [0 0 3]]\n",
          "output_type": "stream"
        }
      ],
      "execution_count": 5
    },
    {
      "cell_type": "code",
      "source": "arr = np.array([[1, 2, 3], [4, 5, 6], [7, 8, 9]])\n\nprint(\"Sum:\", np.sum(arr))\nprint(\"Sum:\", arr.sum())\nprint(\"Row sums:\", arr.sum(1))\nprint(\"Column sums:\", arr.sum(0))",
      "metadata": {
        "trusted": true
      },
      "outputs": [
        {
          "name": "stdout",
          "text": "Sum: 45\nSum: 45\nRow sums: [ 6 15 24]\nColumn sums: [12 15 18]\n",
          "output_type": "stream"
        }
      ],
      "execution_count": 10
    },
    {
      "cell_type": "code",
      "source": "np.savetxt(\"array.txt\", arr)\nnp.loadtxt(\"array.txt\")",
      "metadata": {
        "trusted": true
      },
      "outputs": [
        {
          "execution_count": 11,
          "output_type": "execute_result",
          "data": {
            "text/plain": "array([[1., 2., 3.],\n       [4., 5., 6.],\n       [7., 8., 9.]])"
          },
          "metadata": {}
        }
      ],
      "execution_count": 11
    },
    {
      "cell_type": "code",
      "source": "arr1 = np.array([1, 2, 3])\narr2 = np.array([4, 5, 6])\nprint(np.equal(arr1, arr2))\nprint(np.equal(arr1, arr1))",
      "metadata": {
        "trusted": true
      },
      "outputs": [
        {
          "name": "stdout",
          "text": "[False False False]\n[ True  True  True]\n",
          "output_type": "stream"
        }
      ],
      "execution_count": 12
    },
    {
      "cell_type": "code",
      "source": "arr1 = np.array([1, 2, 3])\narr2 = np.array([4, 5, 6])\nprint(np.array_equal(arr1, arr2))\nprint(np.array_equal(arr1, arr1))",
      "metadata": {
        "trusted": true
      },
      "outputs": [
        {
          "name": "stdout",
          "text": "False\nTrue\n",
          "output_type": "stream"
        }
      ],
      "execution_count": 13
    },
    {
      "cell_type": "code",
      "source": "\narr1, arr2 = np.arange(1, 6), np.arange(1, 10, 2)\nprint(\"Array 1:\", arr1)\nprint(\"Array 2:\", arr2)\nprint(\"Product:\", arr1 * arr2)\nx=np.dot(arr1,arr2)\nprint(\"array multiplication:\",x)",
      "metadata": {
        "trusted": true
      },
      "outputs": [
        {
          "name": "stdout",
          "text": "Array 1: [1 2 3 4 5]\nArray 2: [1 3 5 7 9]\nProduct: [ 1  6 15 28 45]\narray multiplication: 95\n",
          "output_type": "stream"
        }
      ],
      "execution_count": 18
    },
    {
      "cell_type": "code",
      "source": "import numpy  as np\nm1=np.array([[1,2],[3,4]])\nm2=np.array([[2,4],[6,8]])\nprint(\"Dot: \\n\",m1.dot(m2))\nprint(\"transpose: \\n\",np.transpose(m1))\nprint(\"transpose: \\n\",m1.T)\nprint(\"inverse\\n\",np.linalg.inv(m1))\nprint(\"determinant\\n\",np.linalg.det(m1))\nprint(\"1D array\\n\",m1.flatten())",
      "metadata": {
        "trusted": true
      },
      "outputs": [
        {
          "name": "stdout",
          "text": "Dot: \n [[14 20]\n [30 44]]\ntranspose: \n [[1 3]\n [2 4]]\ntranspose: \n [[1 3]\n [2 4]]\ninverse\n [[-2.   1. ]\n [ 1.5 -0.5]]\ndeterminant\n -2.0000000000000004\n1D array\n [1 2 3 4]\n",
          "output_type": "stream"
        }
      ],
      "execution_count": 19
    },
    {
      "cell_type": "code",
      "source": "a=[1,2,3]\nprint(np.array(a))",
      "metadata": {
        "trusted": true
      },
      "outputs": [],
      "execution_count": null
    },
    {
      "cell_type": "code",
      "source": "",
      "metadata": {
        "trusted": true
      },
      "outputs": [],
      "execution_count": null
    }
  ]
}