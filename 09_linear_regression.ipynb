{
 "cells": [
  {
   "cell_type": "markdown",
   "id": "ee4973c0",
   "metadata": {},
   "source": [
    "# Linear Regression"
   ]
  },
  {
   "cell_type": "markdown",
   "id": "1a7b90ce",
   "metadata": {},
   "source": [
    "Linear regression is a fundamental statistical method used in machine learning and data analysis to model the relationship between a dependent variable (**target**) and one or more independent variables (predictors / **features**). \n",
    "It assumes a linear relationship between these variables and aims to find the best-fitting line (or hyperplane in higher dimensions) that minimizes the difference between the observed and predicted values."
   ]
  },
  {
   "cell_type": "markdown",
   "id": "aa06bd7b",
   "metadata": {},
   "source": [
    "### Types of Linear Regression\n",
    "- **Simple Linear Regression**: Involves a single independent variable and one dependent variable. It models the relationship using a straight line.\n",
    "  \n",
    "  $$\n",
    "  y = \\beta_0 + \\beta_1 x + \\epsilon\n",
    "  $$\n",
    "  \n",
    "- **Multiple Linear Regression**: Involves two or more independent variables. It extends simple linear regression to capture the relationship among multiple predictors.\n",
    "\n",
    "  $$\n",
    "  y = \\beta_0 + \\beta_1 x_1 + \\beta_2 x_2 + \\ldots + \\beta_n x_n + \\epsilon\n",
    "  $$"
   ]
  },
  {
   "cell_type": "markdown",
   "id": "84d70f10",
   "metadata": {},
   "source": [
    "### Assumptions of Linear Regression\n",
    "Linear regression relies on several key assumptions to produce valid results:\n",
    "- **Linearity**: The relationship between the independent and dependent variables is linear.\n",
    "- **Independence**: Observations are independent of each other.\n",
    "- **Homoscedasticity**: The variance of the residuals (errors) is constant across all levels of the independent variables.\n",
    "- **Normality**: The residuals are normally distributed (this is particularly important for hypothesis testing).\n",
    "- **No multicollinearity**: In multiple linear regression, independent variables should not be highly correlated with each other.\n"
   ]
  },
  {
   "cell_type": "markdown",
   "id": "83dfb068",
   "metadata": {},
   "source": [
    "### Mathematical Formulation\n",
    "To fit a linear regression model, we aim to minimize the sum of the squared differences between the observed values and the values predicted by the linear model. This is known as the **Ordinary Least Squares (OLS)** method. The cost function is given by:\n",
    "\n",
    "$$\n",
    "\\text{Cost} = \\sum_{i=1}^{m} (y_i - \\hat{y}_i)^2\n",
    "$$\n",
    "\n",
    "where:\n",
    "- $m$ is the number of observations.\n",
    "- $y_i$ is the actual value.\n",
    "- $\\hat{y}_i$ is the predicted value by the linear model.\n",
    "\n",
    "The optimal values for the coefficients $ \\beta_0, \\beta_1, \\ldots, \\beta_n $ can be computed using various methods, including matrix operations or gradient descent."
   ]
  },
  {
   "cell_type": "markdown",
   "id": "525dbca5",
   "metadata": {},
   "source": [
    "### Evaluating Model Performance\n",
    "\n",
    "- **R-squared (R²)**: Indicates the proportion of variance in the dependent variable that is predictable from the independent variables. Values range from 0 to 1, with higher values indicating better fit.\n",
    "  $$  \n",
    "  R^2 = 1 - \\frac{\\sum_{i=1}^{m} (y_i - \\hat{y}_i)^2}{\\sum_{i=1}^{m} (y_i - \\bar{y})^2}\n",
    "  $$\n",
    "\n",
    "- **Mean Absolute Error (MAE)**: The average of the absolute differences between actual and predicted values.\n",
    "  $$  \n",
    "  MAE = \\frac{1}{m} \\sum_{i=1}^{m} |y_i - \\hat{y}_i|\n",
    "  $$\n",
    "\n",
    "- **Mean Squared Error (MSE)**: The average of the squared differences between actual and predicted values.\n",
    "  $$\n",
    "  MSE = \\frac{1}{m} \\sum_{i=1}^{m} (y_i - \\hat{y}_i)^2\n",
    "  $$\n",
    "\n",
    "\n"
   ]
  },
  {
   "cell_type": "code",
   "execution_count": 2,
   "id": "dfeed616-ac83-4575-bf72-f9d1ded64a54",
   "metadata": {},
   "outputs": [],
   "source": [
    "import numpy as np\n",
    "from sklearn.model_selection import train_test_split\n",
    "from sklearn.linear_model import LinearRegression"
   ]
  },
  {
   "cell_type": "code",
   "execution_count": 3,
   "id": "402ee032",
   "metadata": {},
   "outputs": [],
   "source": [
    "from sklearn.metrics import mean_squared_error, r2_score\n",
    "import matplotlib.pyplot as plt"
   ]
  },
  {
   "cell_type": "code",
   "execution_count": 4,
   "id": "76ce5703",
   "metadata": {},
   "outputs": [],
   "source": [
    "np.random.seed(42)\n",
    "\n",
    "current_state = np.random.get_state()\n",
    "\n",
    "X = 2 * np.random.rand(100, 1)\n",
    "y = 4 + 3 * X + np.random.rand(100, 1)"
   ]
  },
  {
   "cell_type": "code",
   "execution_count": 5,
   "id": "247a78cb",
   "metadata": {},
   "outputs": [],
   "source": [
    "X_train, X_test, y_train, y_test = train_test_split(X, y, train_size=0.7)"
   ]
  },
  {
   "cell_type": "code",
   "execution_count": 6,
   "id": "61267f96",
   "metadata": {},
   "outputs": [
    {
     "data": {
      "text/html": [
       "<style>#sk-container-id-1 {color: black;}#sk-container-id-1 pre{padding: 0;}#sk-container-id-1 div.sk-toggleable {background-color: white;}#sk-container-id-1 label.sk-toggleable__label {cursor: pointer;display: block;width: 100%;margin-bottom: 0;padding: 0.3em;box-sizing: border-box;text-align: center;}#sk-container-id-1 label.sk-toggleable__label-arrow:before {content: \"▸\";float: left;margin-right: 0.25em;color: #696969;}#sk-container-id-1 label.sk-toggleable__label-arrow:hover:before {color: black;}#sk-container-id-1 div.sk-estimator:hover label.sk-toggleable__label-arrow:before {color: black;}#sk-container-id-1 div.sk-toggleable__content {max-height: 0;max-width: 0;overflow: hidden;text-align: left;background-color: #f0f8ff;}#sk-container-id-1 div.sk-toggleable__content pre {margin: 0.2em;color: black;border-radius: 0.25em;background-color: #f0f8ff;}#sk-container-id-1 input.sk-toggleable__control:checked~div.sk-toggleable__content {max-height: 200px;max-width: 100%;overflow: auto;}#sk-container-id-1 input.sk-toggleable__control:checked~label.sk-toggleable__label-arrow:before {content: \"▾\";}#sk-container-id-1 div.sk-estimator input.sk-toggleable__control:checked~label.sk-toggleable__label {background-color: #d4ebff;}#sk-container-id-1 div.sk-label input.sk-toggleable__control:checked~label.sk-toggleable__label {background-color: #d4ebff;}#sk-container-id-1 input.sk-hidden--visually {border: 0;clip: rect(1px 1px 1px 1px);clip: rect(1px, 1px, 1px, 1px);height: 1px;margin: -1px;overflow: hidden;padding: 0;position: absolute;width: 1px;}#sk-container-id-1 div.sk-estimator {font-family: monospace;background-color: #f0f8ff;border: 1px dotted black;border-radius: 0.25em;box-sizing: border-box;margin-bottom: 0.5em;}#sk-container-id-1 div.sk-estimator:hover {background-color: #d4ebff;}#sk-container-id-1 div.sk-parallel-item::after {content: \"\";width: 100%;border-bottom: 1px solid gray;flex-grow: 1;}#sk-container-id-1 div.sk-label:hover label.sk-toggleable__label {background-color: #d4ebff;}#sk-container-id-1 div.sk-serial::before {content: \"\";position: absolute;border-left: 1px solid gray;box-sizing: border-box;top: 0;bottom: 0;left: 50%;z-index: 0;}#sk-container-id-1 div.sk-serial {display: flex;flex-direction: column;align-items: center;background-color: white;padding-right: 0.2em;padding-left: 0.2em;position: relative;}#sk-container-id-1 div.sk-item {position: relative;z-index: 1;}#sk-container-id-1 div.sk-parallel {display: flex;align-items: stretch;justify-content: center;background-color: white;position: relative;}#sk-container-id-1 div.sk-item::before, #sk-container-id-1 div.sk-parallel-item::before {content: \"\";position: absolute;border-left: 1px solid gray;box-sizing: border-box;top: 0;bottom: 0;left: 50%;z-index: -1;}#sk-container-id-1 div.sk-parallel-item {display: flex;flex-direction: column;z-index: 1;position: relative;background-color: white;}#sk-container-id-1 div.sk-parallel-item:first-child::after {align-self: flex-end;width: 50%;}#sk-container-id-1 div.sk-parallel-item:last-child::after {align-self: flex-start;width: 50%;}#sk-container-id-1 div.sk-parallel-item:only-child::after {width: 0;}#sk-container-id-1 div.sk-dashed-wrapped {border: 1px dashed gray;margin: 0 0.4em 0.5em 0.4em;box-sizing: border-box;padding-bottom: 0.4em;background-color: white;}#sk-container-id-1 div.sk-label label {font-family: monospace;font-weight: bold;display: inline-block;line-height: 1.2em;}#sk-container-id-1 div.sk-label-container {text-align: center;}#sk-container-id-1 div.sk-container {/* jupyter's `normalize.less` sets `[hidden] { display: none; }` but bootstrap.min.css set `[hidden] { display: none !important; }` so we also need the `!important` here to be able to override the default hidden behavior on the sphinx rendered scikit-learn.org. See: https://github.com/scikit-learn/scikit-learn/issues/21755 */display: inline-block !important;position: relative;}#sk-container-id-1 div.sk-text-repr-fallback {display: none;}</style><div id=\"sk-container-id-1\" class=\"sk-top-container\"><div class=\"sk-text-repr-fallback\"><pre>LinearRegression()</pre><b>In a Jupyter environment, please rerun this cell to show the HTML representation or trust the notebook. <br />On GitHub, the HTML representation is unable to render, please try loading this page with nbviewer.org.</b></div><div class=\"sk-container\" hidden><div class=\"sk-item\"><div class=\"sk-estimator sk-toggleable\"><input class=\"sk-toggleable__control sk-hidden--visually\" id=\"sk-estimator-id-1\" type=\"checkbox\" checked><label for=\"sk-estimator-id-1\" class=\"sk-toggleable__label sk-toggleable__label-arrow\">LinearRegression</label><div class=\"sk-toggleable__content\"><pre>LinearRegression()</pre></div></div></div></div></div>"
      ],
      "text/plain": [
       "LinearRegression()"
      ]
     },
     "execution_count": 6,
     "metadata": {},
     "output_type": "execute_result"
    }
   ],
   "source": [
    "model = LinearRegression()\n",
    "model.fit(X_train, y_train)"
   ]
  },
  {
   "cell_type": "code",
   "execution_count": 7,
   "id": "f2e3fc04",
   "metadata": {},
   "outputs": [],
   "source": [
    "y_pred = model.predict(X_test)"
   ]
  },
  {
   "cell_type": "code",
   "execution_count": 8,
   "id": "af628171",
   "metadata": {},
   "outputs": [
    {
     "name": "stdout",
     "output_type": "stream",
     "text": [
      "0.09239357053122729 0.9696313570049621\n"
     ]
    }
   ],
   "source": [
    "mse = mean_squared_error(y_test, y_pred)\n",
    "r2 = r2_score(y_test, y_pred)\n",
    "\n",
    "print(mse, r2)"
   ]
  },
  {
   "cell_type": "code",
   "execution_count": 12,
   "id": "a351cba4",
   "metadata": {},
   "outputs": [
    {
     "data": {
      "text/plain": [
       "array([[700.13570134]])"
      ]
     },
     "execution_count": 12,
     "metadata": {},
     "output_type": "execute_result"
    }
   ],
   "source": [
    "# Predict a value using the model\n",
    "n = float(input(\"Enter a value to predict:\"))\n",
    "n_reshape = np.array([[n]])\n",
    "n_predict = model.predict(n_reshape)\n",
    "n_predict"
   ]
  },
  {
   "cell_type": "code",
   "execution_count": 13,
   "id": "9ef51dd3",
   "metadata": {},
   "outputs": [
    {
     "data": {
      "image/png": "[encoded data removed]",
      "text/plain": [
       "<Figure size 640x480 with 1 Axes>"
      ]
     },
     "metadata": {},
     "output_type": "display_data"
    }
   ],
   "source": [
    "plt.scatter(X_test, y_test, color='blue', label='Actual')\n",
    "plt.plot(X_test, y_pred, color='red', linewidth=2, label='Predicted')\n",
    "plt.xlabel('X')\n",
    "plt.ylabel('y')\n",
    "plt.title('Linear Regression')\n",
    "plt.legend()\n",
    "plt.show()"
   ]
  },
  {
   "cell_type": "markdown",
   "id": "2a6b00a8",
   "metadata": {},
   "source": [
    "### $R^2$ Score\n",
    "\n",
    "R-Squared, also known as the **coefficient of determination**, is a statistical measure used to assess the goodness of fit of a regression model.\n",
    "\n",
    "R-squared values range from 0 to 1, where:\n",
    "- 0 indicates that the independent variables explain none of the variability of the dependent variable.\n",
    "- 1 indicates that the independent variables explain all the variability of the dependent variable.\n",
    "It is the amount of variable in the output dependent attribute, which is predictable from the input independent variable, s.\n",
    "\n",
    "$$\n",
    "R^2 = 1 - \\frac{SS_{res}}{SS_{total}}\n",
    "$$\n",
    "where $SS_{res}$ is the sum of squares of the residual errors and $SS_{total}$ is the total sum of errors."
   ]
  },
  {
   "cell_type": "markdown",
   "id": "9855d8c4",
   "metadata": {},
   "source": [
    "| **Advantages**                                                                 | **Limitations**                                                                 |\n",
    "|-------------------------------------------------------------------------------|--------------------------------------------------------------------------------|\n",
    "| **Simplicity**: Easy to understand and interpret.                             | **Linearity Assumption**: If the relationship is not linear, the model may perform poorly. |\n",
    "| **Fast**: Computationally efficient, even with large datasets.                | **Sensitivity to Outliers**: Outliers can significantly affect the fit of the model. |\n",
    "| **Well-studied**: A vast amount of theoretical work supports linear regression, making it a robust choice. | **Overfitting**: With many independent variables, the model may fit the noise in the data rather than the underlying relationship. |\n",
    "\n",
    "Linear regression is widely used in various fields, including:\n",
    "- **Economics**: To predict consumer spending, sales forecasts, etc.\n",
    "- **Healthcare**: For predicting patient outcomes based on various health metrics.\n",
    "- **Finance**: To assess risks and returns of financial assets.\n",
    "- **Social Sciences**: To analyze relationships between social factors and outcomes."
   ]
  }
 ],
 "metadata": {
  "kernelspec": {
   "display_name": "Python 3",
   "language": "python",
   "name": "python3"
  },
  "language_info": {
   "codemirror_mode": {
    "name": "ipython",
    "version": 3
   },
   "file_extension": ".py",
   "mimetype": "text/x-python",
   "name": "python",
   "nbconvert_exporter": "python",
   "pygments_lexer": "ipython3",
   "version": "3.11.3"
  }
 },
 "nbformat": 4,
 "nbformat_minor": 5
}
