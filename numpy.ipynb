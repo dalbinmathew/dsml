{
 "cells": [
  {
   "cell_type": "markdown",
   "metadata": {},
   "source": [
    "# NumPy\n",
    "\n",
    "NumPy (**Numerical Python**) is a powerful library for numerical computing in Python. It provides support for arrays, matrices, and many mathematical functions to operate on these data structures efficiently."
   ]
  },
  {
   "cell_type": "code",
   "execution_count": 9,
   "metadata": {},
   "outputs": [],
   "source": [
    "import numpy as np"
   ]
  },
  {
   "cell_type": "markdown",
   "metadata": {},
   "source": [
    "### Features\n",
    "\n",
    "1. **N-Dimensional Array Object (ndarray)**: The core of NumPy is the `ndarray`, a fast and space-efficient multidimensional array providing vectorized operations.\n",
    "2. **Mathematical Functions** to perform operations on arrays.\n",
    "3. Functions for **Linear Algebra** operations.\n",
    "4. **Random Number Generation**\n",
    "5. **Integration with Other Libraries**, such as SciPy, Pandas, and Matplotlib.\n",
    "\n",
    "\n",
    "> NumPy operations are implemented in C, making them much faster than standard Python loops."
   ]
  },
  {
   "cell_type": "code",
   "execution_count": 10,
   "metadata": {},
   "outputs": [
    {
     "name": "stdout",
     "output_type": "stream",
     "text": [
      "1D Array: [1 2 3 4 5]\n",
      "2D Array:\n",
      " [[1 2 3]\n",
      " [4 5 6]]\n",
      "Sum of array: 15\n",
      "Mean of array: 3.0\n",
      "Element-wise addition: [11 12 13 14 15]\n",
      "Matrix multiplication:\n",
      " [[14 32]\n",
      " [32 77]]\n",
      "Broadcasting:\n",
      " [[2 4 6]\n",
      " [5 7 9]]\n"
     ]
    }
   ],
   "source": [
    "# Create a 1D array\n",
    "a = np.array([1, 2, 3, 4, 5])\n",
    "print(\"1D Array:\", a)\n",
    "\n",
    "# Create a 2D array\n",
    "b = np.array([[1, 2, 3], [4, 5, 6]])\n",
    "print(\"2D Array:\\n\", b)\n",
    "\n",
    "# Perform basic operations\n",
    "sum_array = np.sum(a)\n",
    "print(\"Sum of array:\", sum_array)\n",
    "mean_array = np.mean(a)\n",
    "print(\"Mean of array:\", mean_array)\n",
    "\n",
    "# Perform element-wise addition\n",
    "c = a + 10\n",
    "print(\"Element-wise addition:\", c)\n",
    "\n",
    "# Matrix multiplication\n",
    "d = np.dot(b, b.T)\n",
    "print(\"Matrix multiplication:\\n\", d)\n",
    "\n",
    "# Broadcasting: Perform operations on two arrays with different shapes\n",
    "e = b + a[:3]\n",
    "print(\"Broadcasting:\\n\", e)"
   ]
  },
  {
   "cell_type": "markdown",
   "metadata": {},
   "source": [
    "#### 1. Element-wise comparisons of two arrays."
   ]
  },
  {
   "cell_type": "code",
   "execution_count": 17,
   "metadata": {},
   "outputs": [
    {
     "name": "stdout",
     "output_type": "stream",
     "text": [
      "Array 1: [1 2 3]\n",
      "Array 2: [5 1 3]\n",
      "Greater: [False  True False]\n",
      "Greater or equal: [False  True  True]\n",
      "Equal: [False False  True]\n",
      "Less: [ True False False]\n",
      "Less or equal: [ True False  True]\n"
     ]
    }
   ],
   "source": [
    "arr1 = np.array([1, 2, 3])\n",
    "arr2 = np.array([5, 1, 3])\n",
    "\n",
    "print(\"Array 1:\", arr1)\n",
    "print(\"Array 2:\", arr2)\n",
    "print(\"Greater:\", np.greater(arr1, arr2))\n",
    "print(\"Greater or equal:\", np.greater_equal(arr1, arr2))\n",
    "print(\"Equal:\", np.equal(arr1, arr2))\n",
    "print(\"Less:\", np.less(arr1, arr2))\n",
    "print(\"Less or equal:\", np.less_equal(arr1, arr2))"
   ]
  },
  {
   "cell_type": "markdown",
   "metadata": {},
   "source": [
    "#### 2. An array of all the even integers from 30 to 70."
   ]
  },
  {
   "cell_type": "code",
   "execution_count": 24,
   "metadata": {},
   "outputs": [
    {
     "data": {
      "text/plain": [
       "array([30, 32, 34, 36, 38, 40, 42, 44, 46, 48, 50, 52, 54, 56, 58, 60, 62,\n",
       "       64, 66, 68, 70])"
      ]
     },
     "execution_count": 24,
     "metadata": {},
     "output_type": "execute_result"
    }
   ],
   "source": [
    "# arange(start, stop, step)\n",
    "np.arange(30, 71, 2)"
   ]
  },
  {
   "cell_type": "markdown",
   "metadata": {},
   "source": [
    "#### 3. 3x3 identity matrix."
   ]
  },
  {
   "cell_type": "code",
   "execution_count": 25,
   "metadata": {},
   "outputs": [
    {
     "data": {
      "text/plain": [
       "array([[1., 0., 0.],\n",
       "       [0., 1., 0.],\n",
       "       [0., 0., 1.]])"
      ]
     },
     "execution_count": 25,
     "metadata": {},
     "output_type": "execute_result"
    }
   ],
   "source": [
    "np.identity(3)"
   ]
  },
  {
   "cell_type": "markdown",
   "metadata": {},
   "source": [
    "#### 4. Create a vector with values from 0 to 20 and change the sign of the numbers in the range from 9 to 15."
   ]
  },
  {
   "cell_type": "code",
   "execution_count": 36,
   "metadata": {},
   "outputs": [
    {
     "name": "stdout",
     "output_type": "stream",
     "text": [
      "Original: [ 0  1  2  3  4  5  6  7  8  9 10 11 12 13 14 15 16 17 18 19 20]\n",
      "Modified: [  0   1   2   3   4   5   6   7   8  -9 -10 -11 -12 -13 -14 -15  16  17\n",
      "  18  19  20]\n"
     ]
    }
   ],
   "source": [
    "vector = np.arange(21)\n",
    "print(\"Original:\", vector)\n",
    "\n",
    "vector[(vector >= 9) & (vector <= 15)] *= -1\n",
    "print(\"Modified:\", vector)"
   ]
  },
  {
   "cell_type": "markdown",
   "metadata": {},
   "source": [
    "#### 5. Create a 5x5 zero matrix with elements on the main diagonal equal to 1, 2, 3, 4, 5."
   ]
  },
  {
   "cell_type": "code",
   "execution_count": 40,
   "metadata": {},
   "outputs": [
    {
     "data": {
      "text/plain": [
       "array([[1, 0, 0, 0, 0],\n",
       "       [0, 2, 0, 0, 0],\n",
       "       [0, 0, 3, 0, 0],\n",
       "       [0, 0, 0, 4, 0],\n",
       "       [0, 0, 0, 0, 5]])"
      ]
     },
     "execution_count": 40,
     "metadata": {},
     "output_type": "execute_result"
    }
   ],
   "source": [
    "np.diag(np.arange(1, 6))"
   ]
  },
  {
   "cell_type": "markdown",
   "metadata": {},
   "source": [
    "#### 6.  Compute sum of all elements, sum of each column and sum of each row of a given array."
   ]
  },
  {
   "cell_type": "code",
   "execution_count": 45,
   "metadata": {},
   "outputs": [
    {
     "name": "stdout",
     "output_type": "stream",
     "text": [
      "Sum: 45\n",
      "Row sums: [ 6 15 24]\n",
      "Column sums: [12 15 18]\n"
     ]
    }
   ],
   "source": [
    "arr = np.array([[1, 2, 3], [4, 5, 6], [7, 8, 9]])\n",
    "\n",
    "print(\"Sum:\", arr.sum())\n",
    "print(\"Row sums:\", arr.sum(axis=1))\n",
    "print(\"Column sums:\", arr.sum(axis=0))"
   ]
  },
  {
   "cell_type": "markdown",
   "metadata": {},
   "source": [
    "#### 7. Save a given array to a text file and load it."
   ]
  },
  {
   "cell_type": "code",
   "execution_count": 47,
   "metadata": {},
   "outputs": [
    {
     "data": {
      "text/plain": [
       "array([[1., 2., 3.],\n",
       "       [4., 5., 6.],\n",
       "       [7., 8., 9.]])"
      ]
     },
     "execution_count": 47,
     "metadata": {},
     "output_type": "execute_result"
    }
   ],
   "source": [
    "np.savetxt(\"array.txt\", arr)\n",
    "np.loadtxt(\"array.txt\")"
   ]
  },
  {
   "cell_type": "markdown",
   "metadata": {},
   "source": [
    "#### 8. Check whether two arrays are equal (element wise) or not."
   ]
  },
  {
   "cell_type": "code",
   "execution_count": 49,
   "metadata": {},
   "outputs": [
    {
     "name": "stdout",
     "output_type": "stream",
     "text": [
      "False\n",
      "True\n"
     ]
    }
   ],
   "source": [
    "arr1 = np.array([1, 2, 3])\n",
    "arr2 = np.array([4, 5, 6])\n",
    "print(np.array_equal(arr1, arr2))\n",
    "print(np.array_equal(arr1, arr1))"
   ]
  },
  {
   "cell_type": "markdown",
   "metadata": {},
   "source": [
    "#### 9. Create a 4x4 array with random values, now create a new array from the said array swapping first and last rows."
   ]
  },
  {
   "cell_type": "code",
   "execution_count": 56,
   "metadata": {},
   "outputs": [
    {
     "name": "stdout",
     "output_type": "stream",
     "text": [
      "Array:\n",
      " [[0.57260161 0.83476705 0.63451441 0.63715579]\n",
      " [0.8652799  0.74594091 0.61145695 0.36323134]\n",
      " [0.69354263 0.93268051 0.87538163 0.56886437]\n",
      " [0.94861205 0.99747614 0.78143581 0.77932476]]\n",
      "Swapped:\n",
      " [[0.94861205 0.99747614 0.78143581 0.77932476]\n",
      " [0.8652799  0.74594091 0.61145695 0.36323134]\n",
      " [0.69354263 0.93268051 0.87538163 0.56886437]\n",
      " [0.57260161 0.83476705 0.63451441 0.63715579]]\n"
     ]
    }
   ],
   "source": [
    "arr = np.random.rand(4, 4)\n",
    "print(\"Array:\\n\", arr)\n",
    "\n",
    "arr[[0, 3]] = arr[[3, 0]]\n",
    "print(\"Swapped:\\n\", arr)"
   ]
  },
  {
   "cell_type": "markdown",
   "metadata": {},
   "source": [
    "#### 10. Multiply two given arrays of same size element-by-element"
   ]
  },
  {
   "cell_type": "code",
   "execution_count": 62,
   "metadata": {},
   "outputs": [
    {
     "name": "stdout",
     "output_type": "stream",
     "text": [
      "Array 1: [1 2 3 4 5]\n",
      "Array 2: [1 3 5 7 9]\n",
      "Product: [ 1  6 15 28 45]\n"
     ]
    }
   ],
   "source": [
    "arr1, arr2 = np.arange(1, 6), np.arange(1, 10, 2)\n",
    "print(\"Array 1:\", arr1)\n",
    "print(\"Array 2:\", arr2)\n",
    "print(\"Product:\", arr1 * arr2)"
   ]
  }
 ],
 "metadata": {
  "kernelspec": {
   "display_name": "Python 3",
   "language": "python",
   "name": "python3"
  },
  "language_info": {
   "codemirror_mode": {
    "name": "ipython",
    "version": 3
   },
   "file_extension": ".py",
   "mimetype": "text/x-python",
   "name": "python",
   "nbconvert_exporter": "python",
   "pygments_lexer": "ipython3",
   "version": "3.11.3"
  }
 },
 "nbformat": 4,
 "nbformat_minor": 2
}
